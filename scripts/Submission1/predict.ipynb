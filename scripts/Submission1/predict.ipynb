{
 "cells": [
  {
   "cell_type": "code",
   "execution_count": 1,
   "metadata": {
    "collapsed": false
   },
   "outputs": [],
   "source": [
    "import pandas as pd\n",
    "from sklearn.ensemble import GradientBoostingClassifier\n",
    "from sklearn.metrics import log_loss\n",
    "from sklearn.cross_validation import cross_val_score\n",
    "from sklearn.grid_search import GridSearchCV\n",
    "import cPickle as pickle\n",
    "from scipy import sparse"
   ]
  },
  {
   "cell_type": "code",
   "execution_count": 3,
   "metadata": {
    "collapsed": false,
    "scrolled": true
   },
   "outputs": [
    {
     "data": {
      "text/plain": [
       "(49352, 15)"
      ]
     },
     "execution_count": 3,
     "metadata": {},
     "output_type": "execute_result"
    }
   ],
   "source": [
    "trainData = pd.read_csv('../processed/train_processed.csv', index_col ='listing_id')\n",
    "trainData.shape"
   ]
  },
  {
   "cell_type": "code",
   "execution_count": 4,
   "metadata": {
    "collapsed": false
   },
   "outputs": [],
   "source": [
    "# training data\n",
    "X = trainData.drop('interest_level', axis=1)\n",
    "y = trainData.interest_level"
   ]
  },
  {
   "cell_type": "markdown",
   "metadata": {},
   "source": [
    "Follow guide to tuning GradientBoostingClassifier() outlined [here](https://www.analyticsvidhya.com/blog/2016/02/complete-guide-parameter-tuning-gradient-boosting-gbm-python/)"
   ]
  },
  {
   "cell_type": "code",
   "execution_count": 50,
   "metadata": {
    "collapsed": false
   },
   "outputs": [
    {
     "name": "stdout",
     "output_type": "stream",
     "text": [
      "Wall time: 2min 53s\n"
     ]
    },
    {
     "data": {
      "text/plain": [
       "[mean: -0.61170, std: 0.00523, params: {'n_estimators': 20},\n",
       " mean: -0.60224, std: 0.00551, params: {'n_estimators': 30},\n",
       " mean: -0.59911, std: 0.00561, params: {'n_estimators': 40},\n",
       " mean: -0.59797, std: 0.00529, params: {'n_estimators': 50},\n",
       " mean: -0.59604, std: 0.00491, params: {'n_estimators': 60},\n",
       " mean: -0.59636, std: 0.00476, params: {'n_estimators': 70},\n",
       " mean: -0.59556, std: 0.00600, params: {'n_estimators': 80},\n",
       " mean: -0.59568, std: 0.00598, params: {'n_estimators': 90}]"
      ]
     },
     "execution_count": 50,
     "metadata": {},
     "output_type": "execute_result"
    }
   ],
   "source": [
    "# First find a learning rate where classifier is optimized for low number of trees\n",
    "clf = GradientBoostingClassifier(min_samples_split=500, \n",
    "                                 min_samples_leaf=50, \n",
    "                                 max_depth=6,\n",
    "                                 max_features='sqrt',\n",
    "                                 subsample=0.8,\n",
    "                                 learning_rate=0.45)\n",
    "\n",
    "param_grid = {'n_estimators': range(20,91,10)}\n",
    "grid = GridSearchCV(clf, param_grid,cv=5, scoring='log_loss')\n",
    "%time grid.fit(X,y)\n",
    "grid.grid_scores_"
   ]
  },
  {
   "cell_type": "code",
   "execution_count": 53,
   "metadata": {
    "collapsed": false
   },
   "outputs": [
    {
     "data": {
      "text/plain": [
       "({'n_estimators': 80}, -0.59556040843719538)"
      ]
     },
     "execution_count": 53,
     "metadata": {},
     "output_type": "execute_result"
    }
   ],
   "source": [
    "grid.best_params_, grid.best_score_"
   ]
  },
  {
   "cell_type": "code",
   "execution_count": 56,
   "metadata": {
    "collapsed": false
   },
   "outputs": [
    {
     "name": "stdout",
     "output_type": "stream",
     "text": [
      "Wall time: 6min 52s\n"
     ]
    },
    {
     "data": {
      "text/plain": [
       "[mean: -0.61799, std: 0.00516, params: {'min_samples_split': 200, 'max_depth': 2},\n",
       " mean: -0.61748, std: 0.00409, params: {'min_samples_split': 400, 'max_depth': 2},\n",
       " mean: -0.61741, std: 0.00492, params: {'min_samples_split': 600, 'max_depth': 2},\n",
       " mean: -0.61793, std: 0.00519, params: {'min_samples_split': 800, 'max_depth': 2},\n",
       " mean: -0.61868, std: 0.00496, params: {'min_samples_split': 1000, 'max_depth': 2},\n",
       " mean: -0.60266, std: 0.00596, params: {'min_samples_split': 200, 'max_depth': 3},\n",
       " mean: -0.60239, std: 0.00568, params: {'min_samples_split': 400, 'max_depth': 3},\n",
       " mean: -0.60226, std: 0.00593, params: {'min_samples_split': 600, 'max_depth': 3},\n",
       " mean: -0.60223, std: 0.00719, params: {'min_samples_split': 800, 'max_depth': 3},\n",
       " mean: -0.60359, std: 0.00453, params: {'min_samples_split': 1000, 'max_depth': 3},\n",
       " mean: -0.59668, std: 0.00467, params: {'min_samples_split': 200, 'max_depth': 4},\n",
       " mean: -0.59575, std: 0.00575, params: {'min_samples_split': 400, 'max_depth': 4},\n",
       " mean: -0.59670, std: 0.00631, params: {'min_samples_split': 600, 'max_depth': 4},\n",
       " mean: -0.59720, std: 0.00641, params: {'min_samples_split': 800, 'max_depth': 4},\n",
       " mean: -0.59513, std: 0.00583, params: {'min_samples_split': 1000, 'max_depth': 4},\n",
       " mean: -0.59545, std: 0.00710, params: {'min_samples_split': 200, 'max_depth': 5},\n",
       " mean: -0.59499, std: 0.00604, params: {'min_samples_split': 400, 'max_depth': 5},\n",
       " mean: -0.59464, std: 0.00745, params: {'min_samples_split': 600, 'max_depth': 5},\n",
       " mean: -0.59430, std: 0.00547, params: {'min_samples_split': 800, 'max_depth': 5},\n",
       " mean: -0.59422, std: 0.00537, params: {'min_samples_split': 1000, 'max_depth': 5}]"
      ]
     },
     "execution_count": 56,
     "metadata": {},
     "output_type": "execute_result"
    }
   ],
   "source": [
    "# tune max_depth and min_samples_split\n",
    "clf = GradientBoostingClassifier(n_estimators=80, \n",
    "                                 min_samples_leaf=50, \n",
    "                                 max_features='sqrt',\n",
    "                                 subsample=0.8,\n",
    "                                 learning_rate=0.45)\n",
    "param_grid2 = {'max_depth':range(2,6), 'min_samples_split':range(200,1001,200)}\n",
    "grid = GridSearchCV(clf, param_grid2, cv=5, scoring='log_loss')\n",
    "%time grid.fit(X,y)\n",
    "grid.grid_scores_"
   ]
  },
  {
   "cell_type": "code",
   "execution_count": 57,
   "metadata": {
    "collapsed": false
   },
   "outputs": [
    {
     "data": {
      "text/plain": [
       "({'max_depth': 5, 'min_samples_split': 1000}, -0.5942223526416639)"
      ]
     },
     "execution_count": 57,
     "metadata": {},
     "output_type": "execute_result"
    }
   ],
   "source": [
    "grid.best_params_, grid.best_score_"
   ]
  },
  {
   "cell_type": "code",
   "execution_count": 58,
   "metadata": {
    "collapsed": false
   },
   "outputs": [
    {
     "name": "stdout",
     "output_type": "stream",
     "text": [
      "Wall time: 2min 55s\n"
     ]
    },
    {
     "data": {
      "text/plain": [
       "[mean: -0.59358, std: 0.00566, params: {'min_samples_split': 800},\n",
       " mean: -0.59390, std: 0.00596, params: {'min_samples_split': 1000},\n",
       " mean: -0.59369, std: 0.00509, params: {'min_samples_split': 1200},\n",
       " mean: -0.59413, std: 0.00469, params: {'min_samples_split': 1400},\n",
       " mean: -0.59285, std: 0.00632, params: {'min_samples_split': 1600},\n",
       " mean: -0.59227, std: 0.00602, params: {'min_samples_split': 1800},\n",
       " mean: -0.59248, std: 0.00667, params: {'min_samples_split': 2000}]"
      ]
     },
     "execution_count": 58,
     "metadata": {},
     "output_type": "execute_result"
    }
   ],
   "source": [
    "# tune min_samples_split further\n",
    "clf = GradientBoostingClassifier(n_estimators=80, \n",
    "                                 min_samples_leaf=50, \n",
    "                                 max_features='sqrt',\n",
    "                                 subsample=0.8,\n",
    "                                 learning_rate=0.45,\n",
    "                                 max_depth=5)\n",
    "param_grid2 = {'min_samples_split':range(800,2001,200)}\n",
    "grid = GridSearchCV(clf, param_grid2, cv=5, scoring='log_loss')\n",
    "%time grid.fit(X,y)\n",
    "grid.grid_scores_"
   ]
  },
  {
   "cell_type": "code",
   "execution_count": 59,
   "metadata": {
    "collapsed": false
   },
   "outputs": [
    {
     "data": {
      "text/plain": [
       "({'min_samples_split': 1800}, -0.59226525041550504)"
      ]
     },
     "execution_count": 59,
     "metadata": {},
     "output_type": "execute_result"
    }
   ],
   "source": [
    "grid.best_params_, grid.best_score_"
   ]
  },
  {
   "cell_type": "code",
   "execution_count": 60,
   "metadata": {
    "collapsed": false
   },
   "outputs": [
    {
     "name": "stdout",
     "output_type": "stream",
     "text": [
      "Wall time: 3min 39s\n"
     ]
    },
    {
     "data": {
      "text/plain": [
       "[mean: -0.59445, std: 0.00480, params: {'min_samples_leaf': 20},\n",
       " mean: -0.59521, std: 0.00461, params: {'min_samples_leaf': 30},\n",
       " mean: -0.59464, std: 0.00523, params: {'min_samples_leaf': 40},\n",
       " mean: -0.59374, std: 0.00549, params: {'min_samples_leaf': 50},\n",
       " mean: -0.59472, std: 0.00594, params: {'min_samples_leaf': 60},\n",
       " mean: -0.59354, std: 0.00648, params: {'min_samples_leaf': 70},\n",
       " mean: -0.59443, std: 0.00502, params: {'min_samples_leaf': 80},\n",
       " mean: -0.59403, std: 0.00654, params: {'min_samples_leaf': 90},\n",
       " mean: -0.59441, std: 0.00648, params: {'min_samples_leaf': 100}]"
      ]
     },
     "execution_count": 60,
     "metadata": {},
     "output_type": "execute_result"
    }
   ],
   "source": [
    "# tune min_samples_leaf\n",
    "clf = GradientBoostingClassifier(n_estimators=80, \n",
    "                                 max_features='sqrt',\n",
    "                                 subsample=0.8,\n",
    "                                 learning_rate=0.45,\n",
    "                                 max_depth=5,\n",
    "                                 min_samples_split=1800)\n",
    "param_grid2 = {'min_samples_leaf':range(20,101,10)}\n",
    "grid = GridSearchCV(clf, param_grid2, cv=5, scoring='log_loss')\n",
    "%time grid.fit(X,y)\n",
    "grid.grid_scores_"
   ]
  },
  {
   "cell_type": "code",
   "execution_count": 62,
   "metadata": {
    "collapsed": false
   },
   "outputs": [
    {
     "data": {
      "text/plain": [
       "({'min_samples_leaf': 70}, -0.59354023097023789)"
      ]
     },
     "execution_count": 62,
     "metadata": {},
     "output_type": "execute_result"
    }
   ],
   "source": [
    "grid.best_params_, grid.best_score_"
   ]
  },
  {
   "cell_type": "code",
   "execution_count": 66,
   "metadata": {
    "collapsed": false
   },
   "outputs": [
    {
     "name": "stdout",
     "output_type": "stream",
     "text": [
      "Wall time: 3min 21s\n"
     ]
    },
    {
     "data": {
      "text/plain": [
       "[mean: -0.59058, std: 0.00605, params: {'max_features': 5},\n",
       " mean: -0.58788, std: 0.00565, params: {'max_features': 7},\n",
       " mean: -0.58773, std: 0.00491, params: {'max_features': 9},\n",
       " mean: -0.58864, std: 0.00600, params: {'max_features': 11},\n",
       " mean: -0.58846, std: 0.00498, params: {'max_features': 13}]"
      ]
     },
     "execution_count": 66,
     "metadata": {},
     "output_type": "execute_result"
    }
   ],
   "source": [
    "# tune max_features\n",
    "clf = GradientBoostingClassifier(n_estimators=80, \n",
    "                                 min_samples_leaf=70,\n",
    "                                 subsample=0.8,\n",
    "                                 learning_rate=0.45,\n",
    "                                 max_depth=5,\n",
    "                                 min_samples_split=1800)\n",
    "param_grid2 = {'max_features':range(5,15,2)}\n",
    "grid = GridSearchCV(clf, param_grid2, cv=5, scoring='log_loss')\n",
    "%time grid.fit(X,y)\n",
    "grid.grid_scores_"
   ]
  },
  {
   "cell_type": "code",
   "execution_count": 67,
   "metadata": {
    "collapsed": false
   },
   "outputs": [
    {
     "data": {
      "text/plain": [
       "({'max_features': 9}, -0.58772797704169022)"
      ]
     },
     "execution_count": 67,
     "metadata": {},
     "output_type": "execute_result"
    }
   ],
   "source": [
    "grid.best_params_, grid.best_score_"
   ]
  },
  {
   "cell_type": "code",
   "execution_count": 72,
   "metadata": {
    "collapsed": false
   },
   "outputs": [
    {
     "name": "stdout",
     "output_type": "stream",
     "text": [
      "Wall time: 2min 43s\n"
     ]
    },
    {
     "data": {
      "text/plain": [
       "[mean: -0.58722, std: 0.00592, params: {'subsample': 0.85},\n",
       " mean: -0.58762, std: 0.00623, params: {'subsample': 0.9},\n",
       " mean: -0.58483, std: 0.00473, params: {'subsample': 0.95},\n",
       " mean: -0.58487, std: 0.00610, params: {'subsample': 1.0}]"
      ]
     },
     "execution_count": 72,
     "metadata": {},
     "output_type": "execute_result"
    }
   ],
   "source": [
    "# tune subsample\n",
    "clf = GradientBoostingClassifier(n_estimators=80, \n",
    "                                 min_samples_leaf=70, \n",
    "                                 max_features=9,\n",
    "                                 learning_rate=0.45,\n",
    "                                 max_depth=5,\n",
    "                                 min_samples_split=1800)\n",
    "param_grid = {'subsample':[0.85,0.9,0.95,1.0]}\n",
    "grid = GridSearchCV(clf, param_grid, cv=5, scoring='log_loss')\n",
    "%time grid.fit(X,y)\n",
    "grid.grid_scores_"
   ]
  },
  {
   "cell_type": "code",
   "execution_count": 73,
   "metadata": {
    "collapsed": false
   },
   "outputs": [
    {
     "data": {
      "text/plain": [
       "({'subsample': 0.95}, -0.58482872338536507)"
      ]
     },
     "execution_count": 73,
     "metadata": {},
     "output_type": "execute_result"
    }
   ],
   "source": [
    "grid.best_params_, grid.best_score_"
   ]
  },
  {
   "cell_type": "markdown",
   "metadata": {},
   "source": [
    "Now have all parameters. Next, lower learning rate and increase number of estimators proportionally.\n",
    "clf = GradientBoostingClassifier(n_estimators=80, \n",
    "                                 min_samples_leaf=70, \n",
    "                                 max_features=9,\n",
    "                                 learning_rate=0.45,\n",
    "                                 max_depth=5,\n",
    "                                 min_samples_split=1800,\n",
    "                                 subsample=0.95)"
   ]
  },
  {
   "cell_type": "code",
   "execution_count": 74,
   "metadata": {
    "collapsed": false
   },
   "outputs": [
    {
     "data": {
      "text/plain": [
       "array([-0.58759273, -0.57170269, -0.58058868, -0.57808455, -0.58550717])"
      ]
     },
     "execution_count": 74,
     "metadata": {},
     "output_type": "execute_result"
    }
   ],
   "source": [
    "clf = GradientBoostingClassifier(n_estimators=240, \n",
    "                                 min_samples_leaf=70, \n",
    "                                 max_features=9,\n",
    "                                 learning_rate=0.15,\n",
    "                                 max_depth=5,\n",
    "                                 min_samples_split=1800,\n",
    "                                 subsample=0.95)\n",
    "score = cross_val_score(clf, X, y, cv=5, scoring='log_loss')\n",
    "score.mean()"
   ]
  },
  {
   "cell_type": "code",
   "execution_count": 76,
   "metadata": {
    "collapsed": false
   },
   "outputs": [
    {
     "data": {
      "text/plain": [
       "-0.57954212242857783"
      ]
     },
     "execution_count": 76,
     "metadata": {},
     "output_type": "execute_result"
    }
   ],
   "source": [
    "clf = GradientBoostingClassifier(n_estimators=720, \n",
    "                                 min_samples_leaf=70, \n",
    "                                 max_features=9,\n",
    "                                 learning_rate=0.05,\n",
    "                                 max_depth=5,\n",
    "                                 min_samples_split=1800,\n",
    "                                 subsample=0.95)\n",
    "score = cross_val_score(clf, X, y, cv=5, scoring='log_loss')\n",
    "score.mean()"
   ]
  },
  {
   "cell_type": "code",
   "execution_count": 77,
   "metadata": {
    "collapsed": false
   },
   "outputs": [
    {
     "data": {
      "text/plain": [
       "-0.57898731859836439"
      ]
     },
     "execution_count": 77,
     "metadata": {},
     "output_type": "execute_result"
    }
   ],
   "source": [
    "clf = GradientBoostingClassifier(n_estimators=3600, \n",
    "                                 min_samples_leaf=70, \n",
    "                                 max_features=9,\n",
    "                                 learning_rate=0.01,\n",
    "                                 max_depth=5,\n",
    "                                 min_samples_split=1800,\n",
    "                                 subsample=0.95)\n",
    "score = cross_val_score(clf, X, y, cv=5, scoring='log_loss')\n",
    "score.mean()\n",
    "# yields score of 0.60057 on kaggle"
   ]
  },
  {
   "cell_type": "code",
   "execution_count": 78,
   "metadata": {
    "collapsed": false
   },
   "outputs": [
    {
     "data": {
      "text/plain": [
       "-0.57887873550077473"
      ]
     },
     "execution_count": 78,
     "metadata": {},
     "output_type": "execute_result"
    }
   ],
   "source": [
    "clf = GradientBoostingClassifier(n_estimators=7200, \n",
    "                                 min_samples_leaf=70, \n",
    "                                 max_features=9,\n",
    "                                 learning_rate=0.005,\n",
    "                                 max_depth=5,\n",
    "                                 min_samples_split=1800,\n",
    "                                 subsample=0.95)\n",
    "score = cross_val_score(clf, X, y, cv=5, scoring='log_loss')\n",
    "score.mean()\n",
    "# yields score of 0.60017 on kaggle"
   ]
  },
  {
   "cell_type": "markdown",
   "metadata": {},
   "source": [
    "Predict on testing set using this model"
   ]
  },
  {
   "cell_type": "code",
   "execution_count": 5,
   "metadata": {
    "collapsed": false
   },
   "outputs": [
    {
     "data": {
      "text/html": [
       "<div>\n",
       "<table border=\"1\" class=\"dataframe\">\n",
       "  <thead>\n",
       "    <tr style=\"text-align: right;\">\n",
       "      <th></th>\n",
       "      <th>bathrooms</th>\n",
       "      <th>bedrooms</th>\n",
       "      <th>latitude</th>\n",
       "      <th>longitude</th>\n",
       "      <th>price</th>\n",
       "      <th>num_photos</th>\n",
       "      <th>num_features</th>\n",
       "      <th>num_description</th>\n",
       "      <th>building_id</th>\n",
       "      <th>created_year</th>\n",
       "      <th>created_month</th>\n",
       "      <th>created_day</th>\n",
       "      <th>manager_id</th>\n",
       "      <th>created_day_of_week</th>\n",
       "    </tr>\n",
       "    <tr>\n",
       "      <th>listing_id</th>\n",
       "      <th></th>\n",
       "      <th></th>\n",
       "      <th></th>\n",
       "      <th></th>\n",
       "      <th></th>\n",
       "      <th></th>\n",
       "      <th></th>\n",
       "      <th></th>\n",
       "      <th></th>\n",
       "      <th></th>\n",
       "      <th></th>\n",
       "      <th></th>\n",
       "      <th></th>\n",
       "      <th></th>\n",
       "    </tr>\n",
       "  </thead>\n",
       "  <tbody>\n",
       "    <tr>\n",
       "      <th>7142618</th>\n",
       "      <td>1.0</td>\n",
       "      <td>1</td>\n",
       "      <td>40.7185</td>\n",
       "      <td>-73.9865</td>\n",
       "      <td>2950</td>\n",
       "      <td>8</td>\n",
       "      <td>6</td>\n",
       "      <td>78</td>\n",
       "      <td>4412</td>\n",
       "      <td>2016</td>\n",
       "      <td>6</td>\n",
       "      <td>11</td>\n",
       "      <td>2694</td>\n",
       "      <td>5</td>\n",
       "    </tr>\n",
       "    <tr>\n",
       "      <th>7210040</th>\n",
       "      <td>1.0</td>\n",
       "      <td>2</td>\n",
       "      <td>40.7278</td>\n",
       "      <td>-74.0000</td>\n",
       "      <td>2850</td>\n",
       "      <td>3</td>\n",
       "      <td>3</td>\n",
       "      <td>35</td>\n",
       "      <td>0</td>\n",
       "      <td>2016</td>\n",
       "      <td>6</td>\n",
       "      <td>24</td>\n",
       "      <td>3145</td>\n",
       "      <td>4</td>\n",
       "    </tr>\n",
       "    <tr>\n",
       "      <th>7103890</th>\n",
       "      <td>1.0</td>\n",
       "      <td>1</td>\n",
       "      <td>40.7306</td>\n",
       "      <td>-73.9890</td>\n",
       "      <td>3758</td>\n",
       "      <td>6</td>\n",
       "      <td>3</td>\n",
       "      <td>333</td>\n",
       "      <td>2257</td>\n",
       "      <td>2016</td>\n",
       "      <td>6</td>\n",
       "      <td>3</td>\n",
       "      <td>2346</td>\n",
       "      <td>4</td>\n",
       "    </tr>\n",
       "    <tr>\n",
       "      <th>7143442</th>\n",
       "      <td>1.0</td>\n",
       "      <td>2</td>\n",
       "      <td>40.7109</td>\n",
       "      <td>-73.9571</td>\n",
       "      <td>3300</td>\n",
       "      <td>6</td>\n",
       "      <td>10</td>\n",
       "      <td>204</td>\n",
       "      <td>4368</td>\n",
       "      <td>2016</td>\n",
       "      <td>6</td>\n",
       "      <td>11</td>\n",
       "      <td>179</td>\n",
       "      <td>5</td>\n",
       "    </tr>\n",
       "    <tr>\n",
       "      <th>6860601</th>\n",
       "      <td>2.0</td>\n",
       "      <td>2</td>\n",
       "      <td>40.7650</td>\n",
       "      <td>-73.9845</td>\n",
       "      <td>4900</td>\n",
       "      <td>7</td>\n",
       "      <td>14</td>\n",
       "      <td>174</td>\n",
       "      <td>3530</td>\n",
       "      <td>2016</td>\n",
       "      <td>4</td>\n",
       "      <td>12</td>\n",
       "      <td>2764</td>\n",
       "      <td>1</td>\n",
       "    </tr>\n",
       "  </tbody>\n",
       "</table>\n",
       "</div>"
      ],
      "text/plain": [
       "            bathrooms  bedrooms  latitude  longitude  price  num_photos  \\\n",
       "listing_id                                                                \n",
       "7142618           1.0         1   40.7185   -73.9865   2950           8   \n",
       "7210040           1.0         2   40.7278   -74.0000   2850           3   \n",
       "7103890           1.0         1   40.7306   -73.9890   3758           6   \n",
       "7143442           1.0         2   40.7109   -73.9571   3300           6   \n",
       "6860601           2.0         2   40.7650   -73.9845   4900           7   \n",
       "\n",
       "            num_features  num_description  building_id  created_year  \\\n",
       "listing_id                                                             \n",
       "7142618                6               78         4412          2016   \n",
       "7210040                3               35            0          2016   \n",
       "7103890                3              333         2257          2016   \n",
       "7143442               10              204         4368          2016   \n",
       "6860601               14              174         3530          2016   \n",
       "\n",
       "            created_month  created_day  manager_id  created_day_of_week  \n",
       "listing_id                                                               \n",
       "7142618                 6           11        2694                    5  \n",
       "7210040                 6           24        3145                    4  \n",
       "7103890                 6            3        2346                    4  \n",
       "7143442                 6           11         179                    5  \n",
       "6860601                 4           12        2764                    1  "
      ]
     },
     "execution_count": 5,
     "metadata": {},
     "output_type": "execute_result"
    }
   ],
   "source": [
    "X_test = pd.read_csv('../processed/test_processed.csv', index_col ='listing_id')\n",
    "X_test.head()"
   ]
  },
  {
   "cell_type": "code",
   "execution_count": 6,
   "metadata": {
    "collapsed": false
   },
   "outputs": [
    {
     "data": {
      "text/plain": [
       "GradientBoostingClassifier(init=None, learning_rate=0.01, loss='deviance',\n",
       "              max_depth=5, max_features=9, max_leaf_nodes=None,\n",
       "              min_samples_leaf=70, min_samples_split=1800,\n",
       "              min_weight_fraction_leaf=0.0, n_estimators=3600,\n",
       "              presort='auto', random_state=None, subsample=0.95, verbose=0,\n",
       "              warm_start=False)"
      ]
     },
     "execution_count": 6,
     "metadata": {},
     "output_type": "execute_result"
    }
   ],
   "source": [
    "clf = GradientBoostingClassifier(n_estimators=3600, \n",
    "                                 min_samples_leaf=70, \n",
    "                                 max_features=9,\n",
    "                                 learning_rate=0.01,\n",
    "                                 max_depth=5,\n",
    "                                 min_samples_split=1800,\n",
    "                                 subsample=0.95)\n",
    "clf.fit(X,y)"
   ]
  },
  {
   "cell_type": "code",
   "execution_count": 7,
   "metadata": {
    "collapsed": true
   },
   "outputs": [],
   "source": [
    "y_pred = clf.predict_proba(X_test) # predict"
   ]
  },
  {
   "cell_type": "code",
   "execution_count": 8,
   "metadata": {
    "collapsed": false
   },
   "outputs": [
    {
     "data": {
      "text/html": [
       "<div>\n",
       "<table border=\"1\" class=\"dataframe\">\n",
       "  <thead>\n",
       "    <tr style=\"text-align: right;\">\n",
       "      <th></th>\n",
       "      <th>high</th>\n",
       "      <th>medium</th>\n",
       "      <th>low</th>\n",
       "    </tr>\n",
       "    <tr>\n",
       "      <th>listing_id</th>\n",
       "      <th></th>\n",
       "      <th></th>\n",
       "      <th></th>\n",
       "    </tr>\n",
       "  </thead>\n",
       "  <tbody>\n",
       "    <tr>\n",
       "      <th>7142618</th>\n",
       "      <td>0.099107</td>\n",
       "      <td>0.469895</td>\n",
       "      <td>0.430998</td>\n",
       "    </tr>\n",
       "    <tr>\n",
       "      <th>7210040</th>\n",
       "      <td>0.084911</td>\n",
       "      <td>0.135442</td>\n",
       "      <td>0.779646</td>\n",
       "    </tr>\n",
       "    <tr>\n",
       "      <th>7103890</th>\n",
       "      <td>0.026705</td>\n",
       "      <td>0.185972</td>\n",
       "      <td>0.787323</td>\n",
       "    </tr>\n",
       "    <tr>\n",
       "      <th>7143442</th>\n",
       "      <td>0.037543</td>\n",
       "      <td>0.215968</td>\n",
       "      <td>0.746489</td>\n",
       "    </tr>\n",
       "    <tr>\n",
       "      <th>6860601</th>\n",
       "      <td>0.013975</td>\n",
       "      <td>0.109131</td>\n",
       "      <td>0.876894</td>\n",
       "    </tr>\n",
       "  </tbody>\n",
       "</table>\n",
       "</div>"
      ],
      "text/plain": [
       "                high    medium       low\n",
       "listing_id                              \n",
       "7142618     0.099107  0.469895  0.430998\n",
       "7210040     0.084911  0.135442  0.779646\n",
       "7103890     0.026705  0.185972  0.787323\n",
       "7143442     0.037543  0.215968  0.746489\n",
       "6860601     0.013975  0.109131  0.876894"
      ]
     },
     "execution_count": 8,
     "metadata": {},
     "output_type": "execute_result"
    }
   ],
   "source": [
    "# prepare to write to file\n",
    "y_pred_df = pd.DataFrame(y_pred, columns=['low','medium','high'],index=X_test.index)\n",
    "y_pred_df = y_pred_df[['high','medium','low']]\n",
    "y_pred_df.head()"
   ]
  },
  {
   "cell_type": "code",
   "execution_count": 9,
   "metadata": {
    "collapsed": true
   },
   "outputs": [],
   "source": [
    "y_pred_df.to_csv('../processed/submission1.csv') # write to file"
   ]
  }
 ],
 "metadata": {
  "anaconda-cloud": {},
  "kernelspec": {
   "display_name": "Python [conda root]",
   "language": "python",
   "name": "conda-root-py"
  },
  "language_info": {
   "codemirror_mode": {
    "name": "ipython",
    "version": 2
   },
   "file_extension": ".py",
   "mimetype": "text/x-python",
   "name": "python",
   "nbconvert_exporter": "python",
   "pygments_lexer": "ipython2",
   "version": "2.7.12"
  }
 },
 "nbformat": 4,
 "nbformat_minor": 1
}
